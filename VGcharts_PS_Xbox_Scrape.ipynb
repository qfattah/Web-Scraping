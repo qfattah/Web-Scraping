{
 "cells": [
  {
   "cell_type": "markdown",
   "metadata": {},
   "source": [
    "# Web Scraping and Analytics for Playstation and Xbox  Released Games"
   ]
  },
  {
   "cell_type": "markdown",
   "metadata": {},
   "source": [
    "## Importing the Libraries"
   ]
  },
  {
   "cell_type": "code",
   "execution_count": 1,
   "metadata": {},
   "outputs": [],
   "source": [
    "import requests # Importing requests to perform a request and response and get the html data from the website\n",
    "from bs4 import BeautifulSoup # Importing BeautifulSoup to perform html scraping\n",
    "import pandas as pd # Importing pandas to store the data in a dataframe for further processing \n",
    "from tqdm import tqdm  # Import the tqdm to show progress in for for loops"
   ]
  },
  {
   "cell_type": "markdown",
   "metadata": {},
   "source": [
    "## Web Scraping"
   ]
  },
  {
   "cell_type": "markdown",
   "metadata": {},
   "source": [
    "### Selecting Playstation and Xbox consoles"
   ]
  },
  {
   "cell_type": "markdown",
   "metadata": {},
   "source": [
    "The general steps to performing web scraping are:\n",
    "\n",
    " 1. Define the URL\n",
    " 2. Request a response from the URL and verify the code\n",
    " 3. Define the content of the response in a variable (usually 'html')\n",
    " 4. Define a BeautifulSoup instance\n",
    " 5. Utilize manual inspection and find_all function to scrap through the data\n",
    " 6. Create a URL for the scrape process\n"
   ]
  },
  {
   "cell_type": "code",
   "execution_count": 2,
   "metadata": {},
   "outputs": [
    {
     "name": "stdout",
     "output_type": "stream",
     "text": [
      "200\n"
     ]
    }
   ],
   "source": [
    "# URL of the website to scrape\n",
    "url = \"https://www.vgchartz.com/gamedb/games.php\"\n",
    "\n",
    "# Define the response and print it to confirm webage retreival\n",
    "\n",
    "response = requests.get(url)\n",
    "print(response.status_code)"
   ]
  },
  {
   "cell_type": "code",
   "execution_count": 3,
   "metadata": {},
   "outputs": [],
   "source": [
    "# Parse the HTML website in preparation to scrape the data\n",
    "\n",
    "html = response.content\n",
    "soup = BeautifulSoup(html, 'html.parser')"
   ]
  },
  {
   "cell_type": "code",
   "execution_count": 4,
   "metadata": {},
   "outputs": [],
   "source": [
    "# This code is searching for a < select > element in the HTML document with the attribute name set to 'console', meaning it's looking for values in the console drop-down menu\n",
    "# The \"console\" attribute was found by inspecting the website, below a screenshot:\n",
    "\n",
    "console_select = soup.find('select', {'name': 'console'})"
   ]
  },
  {
   "attachments": {
    "image.png": {
     "image/png": "[encoded data removed]"
    }
   },
   "cell_type": "markdown",
   "metadata": {},
   "source": [
    "![image.png](attachment:image.png)"
   ]
  },
  {
   "cell_type": "code",
   "execution_count": 5,
   "metadata": {},
   "outputs": [
    {
     "name": "stdout",
     "output_type": "stream",
     "text": [
      "-\n",
      "3DO Interactive Multiplayer\n",
      "Acorn Electron\n",
      "All\n",
      "Amiga\n",
      "Amiga CD32\n",
      "Amstrad CPC\n",
      "Android\n",
      "Apple II\n",
      "Arcade\n",
      "Atari 2600\n",
      "Atari 5200\n",
      "Atari 7800\n",
      "Atari Jaguar\n",
      "Atari Lynx\n",
      "Atari ST\n",
      "BBC Micro\n",
      "Browser\n",
      "CD-i\n",
      "ColecoVision\n",
      "Commodore 128\n",
      "Commodore 64\n",
      "DSi Ware\n",
      "Fairchild Channel F\n",
      "Famicom Disk System\n",
      "FM Towns\n",
      "Game Boy\n",
      "Game Boy Advance\n",
      "Game Boy Color\n",
      "GameCube\n",
      "GameGear\n",
      "Gizmondo\n",
      "HTC Vive\n",
      "Intellivision\n",
      "iOS\n",
      "iQue\n",
      "Linux\n",
      "Mac OS X\n",
      "Magnavox Odyssey\n",
      "Microsoft Windows\n",
      "MS-DOS\n",
      "MSX\n",
      "N-Gage\n",
      "Neo Geo\n",
      "Neo Geo X\n",
      "Nintendo 2DS\n",
      "Nintendo 3DS\n",
      "Nintendo 64\n",
      "Nintendo DS\n",
      "Nintendo DSi\n",
      "Nintendo Entertainment System\n",
      "Nintendo Switch\n",
      "Nvidia Shield\n",
      "Oculus Rift\n",
      "Ouya\n",
      "PC-FX\n",
      "PCE\n",
      "PlayStation\n",
      "PlayStation 2\n",
      "PlayStation 3\n",
      "PlayStation 4\n",
      "PlayStation 5\n",
      "PlayStation Network\n",
      "PlayStation Portable\n",
      "PlayStation Vita\n",
      "Playstation VR\n",
      "Sega 32X\n",
      "Sega CD\n",
      "Sega Dreamcast\n",
      "Sega Genesis\n",
      "Sega Master System\n",
      "Sega Saturn\n",
      "Series\n",
      "Standard Mobile\n",
      "Super Famicom\n",
      "Super Nintendo Entertainment System\n",
      "TurboGrafx-16\n",
      "Unknown\n",
      "Virtual Boy\n",
      "Virtual Console\n",
      "Wii\n",
      "Wii U\n",
      "WiiWare\n",
      "Windows Phone\n",
      "WonderSwan\n",
      "Xbox\n",
      "Xbox 360\n",
      "XBox Live\n",
      "Xbox One\n",
      "Xbox Series\n",
      "ZX Spectrum\n"
     ]
    }
   ],
   "source": [
    "# Here we can see that we have all the values of the consoles in the \"console_select\" element. \n",
    "\n",
    "if console_select:\n",
    "    # Loop through the option elements\n",
    "    for option in console_select.find_all('option'):\n",
    "        # Print the value attribute of each option\n",
    "        print(option.get_text())"
   ]
  },
  {
   "cell_type": "code",
   "execution_count": 6,
   "metadata": {},
   "outputs": [
    {
     "name": "stdout",
     "output_type": "stream",
     "text": [
      "{'PlayStation': ['PS', 1], 'PlayStation 2': ['PS2', 1], 'PlayStation 3': ['PS3', 1], 'PlayStation 4': ['PS4', 1], 'PlayStation 5': ['PS5', 1], 'PlayStation Network': ['PSN', 1], 'PlayStation Portable': ['PSP', 1], 'PlayStation Vita': ['PSV', 1], 'Playstation VR': ['PVR', 1], 'Xbox': ['XB', 1], 'Xbox 360': ['X360', 1], 'XBox Live': ['XBL', 1], 'Xbox One': ['XOne', 1], 'Xbox Series': ['XS', 1]}\n"
     ]
    }
   ],
   "source": [
    "# We need to extract the text and the value pairs for each xbox and playstation options\n",
    "# I will create a dictionary comrehension to extract the options\n",
    "\n",
    "if console_select:\n",
    "    # Create a dictionary comprehension to extract the options starting with 'xbox' or 'playstation'\n",
    "    desired_consoles = {option.get_text(): [option.get('value'), 1] \n",
    "                       for option in console_select.find_all('option') \n",
    "                       if option.get('value') and (option.get_text().lower().startswith('xbox') or option.get_text().lower().startswith('playstation'))}\n",
    "\n",
    "    print(desired_consoles)"
   ]
  },
  {
   "cell_type": "code",
   "execution_count": 7,
   "metadata": {},
   "outputs": [
    {
     "name": "stdout",
     "output_type": "stream",
     "text": [
      "Desired_Consoles = {\n",
      "\"PlayStation\"                            : ['PS', 1] ,\n",
      "\"PlayStation 2\"                          : ['PS2', 1] ,\n",
      "\"PlayStation 3\"                          : ['PS3', 1] ,\n",
      "\"PlayStation 4\"                          : ['PS4', 1] ,\n",
      "\"PlayStation 5\"                          : ['PS5', 1] ,\n",
      "\"PlayStation Network\"                    : ['PSN', 1] ,\n",
      "\"PlayStation Portable\"                   : ['PSP', 1] ,\n",
      "\"PlayStation Vita\"                       : ['PSV', 1] ,\n",
      "\"Playstation VR\"                         : ['PVR', 1] ,\n",
      "\"Xbox\"                                   : ['XB', 1] ,\n",
      "\"Xbox 360\"                               : ['X360', 1] ,\n",
      "\"XBox Live\"                              : ['XBL', 1] ,\n",
      "\"Xbox One\"                               : ['XOne', 1] ,\n",
      "\"Xbox Series\"                            : ['XS', 1] ,\n",
      "}\n"
     ]
    }
   ],
   "source": [
    "## Here I am creating a output text that will look like a dictionary\n",
    "## This way I can just copy the code in the box below to get the console selection I want\n",
    "\n",
    "print(\"Desired_Consoles = {\")\n",
    "for key, value in desired_consoles.items():\n",
    "    print(f'\"{key}\"'.ljust(40), ':', value,\",\")\n",
    "\n",
    "print(\"}\")"
   ]
  },
  {
   "cell_type": "markdown",
   "metadata": {},
   "source": [
    "### Defining Scrape Parameters and Scrape URL"
   ]
  },
  {
   "cell_type": "markdown",
   "metadata": {},
   "source": [
    "When a search is performed on the website, the parameters of the search are defined in the URL, we will need to pre-specify those parameters to successfully pull the correct view"
   ]
  },
  {
   "cell_type": "code",
   "execution_count": 8,
   "metadata": {},
   "outputs": [
    {
     "name": "stdout",
     "output_type": "stream",
     "text": [
      "Input Element Name: l_username\n",
      "Input Element Name: q\n",
      "Input Element Name: name\n",
      "Input Element Name: keyword\n",
      "Input Element Name: developer\n",
      "Input Element Name: publisher\n",
      "Input Element Name: showtotalsales\n",
      "Input Element Name: showpublisher\n",
      "Input Element Name: showvgchartzscore\n",
      "Input Element Name: shownasales\n",
      "Input Element Name: showdeveloper\n",
      "Input Element Name: showcriticscore\n",
      "Input Element Name: showpalsales\n",
      "Input Element Name: showreleasedate\n",
      "Input Element Name: showuserscore\n",
      "Input Element Name: showjapansales\n",
      "Input Element Name: showlastupdate\n",
      "Input Element Name: showothersales\n",
      "Input Element Name: showshipped\n",
      "Select Element Name: console\n",
      "Select Element Name: region\n",
      "Select Element Name: goty_year\n",
      "Select Element Name: genre\n",
      "Select Element Name: boxart\n",
      "Select Element Name: banner\n",
      "Select Element Name: ownership\n",
      "Select Element Name: showmultiplat\n",
      "Select Element Name: results\n"
     ]
    }
   ],
   "source": [
    "# Find all the parameters that will define the view of the website:\n",
    "# I created this list to ensure correctly spelling in defining parameters\n",
    "\n",
    "list_of_element_types = ['input', 'select']\n",
    "\n",
    "for element_type in list_of_element_types:\n",
    "    # Find elements of the current type\n",
    "    if element_type == 'input':\n",
    "        # For input elements, filter by type\n",
    "        element_elements = soup.find_all(element_type, {'type': ['text', 'checkbox']})\n",
    "    else:\n",
    "        # For select elements, just find all select elements\n",
    "        element_elements = soup.find_all(element_type)\n",
    "    \n",
    "    # Extract and print the name of each element\n",
    "    for element in element_elements:\n",
    "        element_name = element.get('name')\n",
    "        if element_name:\n",
    "            print(f\"{element_type.capitalize()} Element Name:\", element_name)\n"
   ]
  },
  {
   "cell_type": "code",
   "execution_count": 9,
   "metadata": {},
   "outputs": [],
   "source": [
    "def open_url(system_desired):\n",
    "    '''\n",
    "    Here we will create the URL for the scrape process. You may want to change some parameters if wanted\n",
    "    \n",
    "    '''\n",
    "    base_url = \"https://www.vgchartz.com/games/games.php?\"\n",
    "    params = {\n",
    "        'name': '',\n",
    "        'keyword': '',\n",
    "        'console': '',  # Placeholder for the console name\n",
    "        'region': 'All',\n",
    "        'developer': '',\n",
    "        'publisher': '',\n",
    "        'goty_year': '',\n",
    "        'genre': '',\n",
    "        'boxart': 'Both',\n",
    "        'banner': 'Both',\n",
    "        'ownership': 'Both',\n",
    "        'showmultiplat': 'Yes',\n",
    "        'results': '100000',         ## put a huge value here to get all the results in one page\n",
    "        'order': 'TotalShipped',\n",
    "        'showtotalsales': '1',\n",
    "        'showpublisher': '0',\n",
    "        'showvgchartzscore': '0',\n",
    "        'shownasales': '1',\n",
    "        'showdeveloper': '0',\n",
    "        'showcriticscore': '0',\n",
    "        'showpalsales': '1',\n",
    "        'showreleasedate': '1',\n",
    "        'showuserscore': '0',\n",
    "        'showjapansales': '1',\n",
    "        'showlastupdate': '0',\n",
    "        'showothersales': '1',\n",
    "        'showshipped': '1'\n",
    "    }\n",
    "\n",
    "    params['console'] = system_desired  # Set the console parameter\n",
    "    console_url = base_url + '&'.join([f\"{k}={v}\" for k, v in params.items()])\n",
    "    response = requests.get(console_url)\n",
    "    html = response.content\n",
    "    soup = BeautifulSoup(html, 'html.parser')\n",
    "    games_table_in = soup.find('div', id='generalBody')\n",
    "    rows_in = games_table_in.find_all('tr', style=True)  # Retrieve all the rows first to count them\n",
    "\n",
    "    return rows_in\n"
   ]
  },
  {
   "cell_type": "markdown",
   "metadata": {},
   "source": [
    "### Scraping The Date"
   ]
  },
  {
   "cell_type": "code",
   "execution_count": 13,
   "metadata": {},
   "outputs": [
    {
     "name": "stderr",
     "output_type": "stream",
     "text": [
      "Scraping games for PlayStation: 100%|██████████| 2707/2707 [00:00<00:00, 30102.29row/s]\n",
      "Scraping games for PlayStation 2: 100%|██████████| 3565/3565 [00:00<00:00, 29681.12row/s]\n",
      "Scraping games for PlayStation 3: 100%|██████████| 1905/1905 [00:00<00:00, 29790.31row/s]\n",
      "Scraping games for PlayStation 4: 100%|██████████| 3110/3110 [00:00<00:00, 29953.40row/s]\n",
      "Scraping games for PlayStation 5: 100%|██████████| 786/786 [00:00<00:00, 29564.37row/s]\n",
      "Scraping games for PlayStation Network: 100%|██████████| 2005/2005 [00:00<00:00, 29427.69row/s]\n",
      "Scraping games for PlayStation Portable: 100%|██████████| 1807/1807 [00:00<00:00, 29170.61row/s]\n",
      "Scraping games for PlayStation Vita: 100%|██████████| 1105/1105 [00:00<00:00, 29175.70row/s]\n",
      "Scraping games for Playstation VR: 0row [00:00, ?row/s]  9.08s/system]\n",
      "Scraping games for Xbox: 100%|██████████| 983/983 [00:00<00:00, 29666.36row/s]\n",
      "Scraping games for Xbox 360: 100%|██████████| 1735/1735 [00:00<00:00, 29800.68row/s]\n",
      "Scraping games for XBox Live: 100%|██████████| 2121/2121 [00:00<00:00, 30007.32row/s]\n",
      "Scraping games for Xbox One: 100%|██████████| 2012/2012 [00:00<00:00, 29401.00row/s]\n",
      "Scraping games for Xbox Series: 100%|██████████| 680/680 [00:00<00:00, 30235.63row/s]\n",
      "looking in systems: 100%|██████████| 14/14 [02:11<00:00,  9.42s/system]\n"
     ]
    }
   ],
   "source": [
    "games_data = []\n",
    "# Use tqdm to wrap the iteration and provide a progress bar\n",
    "\n",
    "#For each console in our desired_console list\n",
    "for console in tqdm(desired_consoles.keys(), desc=\"looking in systems\", unit = \"system\"):\n",
    "    # we check if the user selected \"1\" (as in \"I want to scrape data from this console\")\n",
    "    if desired_consoles[console][-1] == 1:\n",
    "        #we open the url for the console\n",
    "        rows = open_url(desired_consoles[console][0])\n",
    "        #and download every row data\n",
    "        for game_row in tqdm(rows, desc=\"Scraping games for \"+ console , unit=\"row\"):\n",
    "            cells = game_row.find_all('td')\n",
    "            system_image = cells[3].find('img')  # Find the <img> tag within the System cell\n",
    "            system = system_image['alt'] if system_image and 'alt' in system_image.attrs else 'No system info'  # Get the alt text or a default\n",
    "            game_image_url = cells[1].find('img')['src'] if cells[1].find('img') else 'N/A'\n",
    "\n",
    "            if len(cells) > 1:  # This checks if the row is not a header or empty\n",
    "                game_info = {\n",
    "                    'Game Name': cells[2].get_text(strip=True),\n",
    "                    'Image_URL': \"https://www.vgchartz.com\"+game_image_url,\n",
    "                    'System': system,\n",
    "                    'Total Shipped': cells[4].get_text(strip=True),\n",
    "                    'Total Sales': cells[5].get_text(strip=True),\n",
    "                    'NA Sales': cells[6].get_text(strip=True),\n",
    "                    'PAL Sales': cells[7].get_text(strip=True),  # Adjust if the index is different\n",
    "                    'Japan Sales': cells[8].get_text(strip=True),\n",
    "                    'Other Sales': cells[9].get_text(strip=True),\n",
    "                    'Release Date': cells[10].get_text(strip=True)\n",
    "                }\n",
    "                games_data.append(game_info)"
   ]
  }
 ],
 "metadata": {
  "kernelspec": {
   "display_name": "Python 3",
   "language": "python",
   "name": "python3"
  },
  "language_info": {
   "codemirror_mode": {
    "name": "ipython",
    "version": 3
   },
   "file_extension": ".py",
   "mimetype": "text/x-python",
   "name": "python",
   "nbconvert_exporter": "python",
   "pygments_lexer": "ipython3",
   "version": "3.11.1"
  }
 },
 "nbformat": 4,
 "nbformat_minor": 2
}
