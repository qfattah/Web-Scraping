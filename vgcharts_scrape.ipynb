{
 "cells": [
  {
   "cell_type": "markdown",
   "metadata": {},
   "source": [
    "# Web Scraping and Analytics for Playstation and Xbox  Released Games"
   ]
  },
  {
   "cell_type": "markdown",
   "metadata": {},
   "source": [
    "## Importing the Libraries"
   ]
  },
  {
   "cell_type": "code",
   "execution_count": 2,
   "metadata": {},
   "outputs": [],
   "source": [
    "import requests # Importing requests to perform a request and response and get the html data from the website\n",
    "from bs4 import BeautifulSoup # Importing BeautifulSoup to perform html scraping\n",
    "import pandas as pd # Importing pandas to store the data in a dataframe for further processing \n",
    "from tqdm import tqdm  # Import the tqdm to show progress in for for loops"
   ]
  },
  {
   "cell_type": "markdown",
   "metadata": {},
   "source": [
    "## Web Scraping"
   ]
  },
  {
   "cell_type": "markdown",
   "metadata": {},
   "source": [
    "### Selecting Playstation and Xbox consoles"
   ]
  },
  {
   "cell_type": "markdown",
   "metadata": {},
   "source": [
    "The general steps to performing web scraping are:\n",
    "\n",
    " 1. Define the URL\n",
    " 2. Request a response from the URL and verify the code\n",
    " 3. Define the content of the response in a variable (usually 'html')\n",
    " 4. Define a BeautifulSoup instance\n",
    " 5. Utilize manual inspection and find_all function to scrap through the data\n",
    " 6. Create a URL for the scrape process\n"
   ]
  },
  {
   "cell_type": "code",
   "execution_count": 3,
   "metadata": {},
   "outputs": [
    {
     "name": "stdout",
     "output_type": "stream",
     "text": [
      "200\n"
     ]
    }
   ],
   "source": [
    "# URL of the website to scrape\n",
    "url = \"https://www.vgchartz.com/gamedb/games.php\"\n",
    "\n",
    "# Define the response and print it to confirm webage retreival\n",
    "\n",
    "response = requests.get(url)\n",
    "print(response.status_code)"
   ]
  },
  {
   "cell_type": "code",
   "execution_count": 4,
   "metadata": {},
   "outputs": [],
   "source": [
    "# Parse the HTML website in preparation to scrape the data\n",
    "\n",
    "html = response.content\n",
    "soup = BeautifulSoup(html, 'html.parser')"
   ]
  },
  {
   "cell_type": "code",
   "execution_count": 28,
   "metadata": {},
   "outputs": [],
   "source": [
    "# This code is searching for a < select > element in the HTML document with the attribute name set to 'console', meaning it's looking for values in the console drop-down menu\n",
    "# The \"console\" attribute was found by inspecting the website, below a screenshot:\n",
    "\n",
    "console_select = soup.find('select', {'name': 'console'})"
   ]
  },
  {
   "attachments": {
    "image.png": {
     "image/png": "[encoded data removed]"
    }
   },
   "cell_type": "markdown",
   "metadata": {},
   "source": [
    "![image.png](attachment:image.png)"
   ]
  },
  {
   "cell_type": "code",
   "execution_count": 36,
   "metadata": {},
   "outputs": [
    {
     "name": "stdout",
     "output_type": "stream",
     "text": [
      "-\n",
      "3DO Interactive Multiplayer\n",
      "Acorn Electron\n",
      "All\n",
      "Amiga\n",
      "Amiga CD32\n",
      "Amstrad CPC\n",
      "Android\n",
      "Apple II\n",
      "Arcade\n",
      "Atari 2600\n",
      "Atari 5200\n",
      "Atari 7800\n",
      "Atari Jaguar\n",
      "Atari Lynx\n",
      "Atari ST\n",
      "BBC Micro\n",
      "Browser\n",
      "CD-i\n",
      "ColecoVision\n",
      "Commodore 128\n",
      "Commodore 64\n",
      "DSi Ware\n",
      "Fairchild Channel F\n",
      "Famicom Disk System\n",
      "FM Towns\n",
      "Game Boy\n",
      "Game Boy Advance\n",
      "Game Boy Color\n",
      "GameCube\n",
      "GameGear\n",
      "Gizmondo\n",
      "HTC Vive\n",
      "Intellivision\n",
      "iOS\n",
      "iQue\n",
      "Linux\n",
      "Mac OS X\n",
      "Magnavox Odyssey\n",
      "Microsoft Windows\n",
      "MS-DOS\n",
      "MSX\n",
      "N-Gage\n",
      "Neo Geo\n",
      "Neo Geo X\n",
      "Nintendo 2DS\n",
      "Nintendo 3DS\n",
      "Nintendo 64\n",
      "Nintendo DS\n",
      "Nintendo DSi\n",
      "Nintendo Entertainment System\n",
      "Nintendo Switch\n",
      "Nvidia Shield\n",
      "Oculus Rift\n",
      "Ouya\n",
      "PC-FX\n",
      "PCE\n",
      "PlayStation\n",
      "PlayStation 2\n",
      "PlayStation 3\n",
      "PlayStation 4\n",
      "PlayStation 5\n",
      "PlayStation Network\n",
      "PlayStation Portable\n",
      "PlayStation Vita\n",
      "Playstation VR\n",
      "Sega 32X\n",
      "Sega CD\n",
      "Sega Dreamcast\n",
      "Sega Genesis\n",
      "Sega Master System\n",
      "Sega Saturn\n",
      "Series\n",
      "Standard Mobile\n",
      "Super Famicom\n",
      "Super Nintendo Entertainment System\n",
      "TurboGrafx-16\n",
      "Unknown\n",
      "Virtual Boy\n",
      "Virtual Console\n",
      "Wii\n",
      "Wii U\n",
      "WiiWare\n",
      "Windows Phone\n",
      "WonderSwan\n",
      "Xbox\n",
      "Xbox 360\n",
      "XBox Live\n",
      "Xbox One\n",
      "Xbox Series\n",
      "ZX Spectrum\n"
     ]
    }
   ],
   "source": [
    "# Here we can see that we have all the values of the consoles in the \"console_select\" element. \n",
    "\n",
    "if console_select:\n",
    "    # Loop through the option elements\n",
    "    for option in console_select.find_all('option'):\n",
    "        # Print the value attribute of each option\n",
    "        print(option.get_text())"
   ]
  },
  {
   "cell_type": "code",
   "execution_count": 41,
   "metadata": {},
   "outputs": [
    {
     "name": "stdout",
     "output_type": "stream",
     "text": [
      "{'PlayStation': ['PS', 1], 'PlayStation 2': ['PS2', 1], 'PlayStation 3': ['PS3', 1], 'PlayStation 4': ['PS4', 1], 'PlayStation 5': ['PS5', 1], 'PlayStation Network': ['PSN', 1], 'PlayStation Portable': ['PSP', 1], 'PlayStation Vita': ['PSV', 1], 'Playstation VR': ['PVR', 1], 'Xbox': ['XB', 1], 'Xbox 360': ['X360', 1], 'XBox Live': ['XBL', 1], 'Xbox One': ['XOne', 1], 'Xbox Series': ['XS', 1]}\n"
     ]
    }
   ],
   "source": [
    "# We need to extract the text and the value pairs for each xbox and playstation options\n",
    "# I will create a dictionary comrehension to extract the options\n",
    "\n",
    "if console_select:\n",
    "    # Create a dictionary comprehension to extract the options starting with 'xbox' or 'playstation'\n",
    "    console_options = {option.get_text(): [option.get('value'), 1] \n",
    "                       for option in console_select.find_all('option') \n",
    "                       if option.get('value') and (option.get_text().lower().startswith('xbox') or option.get_text().lower().startswith('playstation'))}\n",
    "\n",
    "    print(console_options)"
   ]
  },
  {
   "cell_type": "code",
   "execution_count": 42,
   "metadata": {},
   "outputs": [
    {
     "name": "stdout",
     "output_type": "stream",
     "text": [
      "Desired_Consoles = {\n",
      "\"PlayStation\"                            : ['PS', 1] ,\n",
      "\"PlayStation 2\"                          : ['PS2', 1] ,\n",
      "\"PlayStation 3\"                          : ['PS3', 1] ,\n",
      "\"PlayStation 4\"                          : ['PS4', 1] ,\n",
      "\"PlayStation 5\"                          : ['PS5', 1] ,\n",
      "\"PlayStation Network\"                    : ['PSN', 1] ,\n",
      "\"PlayStation Portable\"                   : ['PSP', 1] ,\n",
      "\"PlayStation Vita\"                       : ['PSV', 1] ,\n",
      "\"Playstation VR\"                         : ['PVR', 1] ,\n",
      "\"Xbox\"                                   : ['XB', 1] ,\n",
      "\"Xbox 360\"                               : ['X360', 1] ,\n",
      "\"XBox Live\"                              : ['XBL', 1] ,\n",
      "\"Xbox One\"                               : ['XOne', 1] ,\n",
      "\"Xbox Series\"                            : ['XS', 1] ,\n",
      "}\n"
     ]
    }
   ],
   "source": [
    "## Here I am creating a output text that will look like a dictionary\n",
    "## This way I can just copy the code in the box below to get the console selection I want\n",
    "\n",
    "print(\"Desired_Consoles = {\")\n",
    "for key, value in console_options.items():\n",
    "    print(f'\"{key}\"'.ljust(40), ':', value,\",\")\n",
    "\n",
    "print(\"}\")"
   ]
  },
  {
   "cell_type": "markdown",
   "metadata": {},
   "source": [
    "### Defining Scrape Parameters"
   ]
  },
  {
   "cell_type": "code",
   "execution_count": null,
   "metadata": {},
   "outputs": [],
   "source": []
  }
 ],
 "metadata": {
  "kernelspec": {
   "display_name": "Python 3",
   "language": "python",
   "name": "python3"
  },
  "language_info": {
   "codemirror_mode": {
    "name": "ipython",
    "version": 3
   },
   "file_extension": ".py",
   "mimetype": "text/x-python",
   "name": "python",
   "nbconvert_exporter": "python",
   "pygments_lexer": "ipython3",
   "version": "3.11.1"
  }
 },
 "nbformat": 4,
 "nbformat_minor": 2
}
